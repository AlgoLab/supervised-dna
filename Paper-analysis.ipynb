{
 "cells": [
  {
   "cell_type": "markdown",
   "id": "2f464fec-ae76-4b0f-9770-d5633133f0b8",
   "metadata": {},
   "source": [
    "## Plot FCGR and Saliency Maps"
   ]
  },
  {
   "cell_type": "code",
   "execution_count": null,
   "id": "fca25284-6673-4da8-81a3-6cee9ae8740a",
   "metadata": {},
   "outputs": [],
   "source": [
    "import numpy as np \n",
    "import matplotlib.pyplot as plt\n",
    "from supervised_dna.utils import array2img\n",
    "\n",
    "def plot(array_freq, grad_eval, clade):\n",
    "    \"FCGR vs Saliency Maps\"\n",
    "    fig, axes = plt.subplots(1,2,figsize=(14,5))\n",
    "    axes[0].imshow(array2img(array_freq), cmap=\"gray\")\n",
    "    i = axes[1].imshow(grad_eval,cmap=\"jet\",alpha=0.8)\n",
    "    fig.colorbar(i)\n",
    "    fig.suptitle(f\"FCGR and Saliency Maps | Clade: {clade}\")\n",
    "    axes[0].set_title(\"FCGR\")\n",
    "    axes[1].set_title(\"Saliency Map\")\n",
    "    return fig"
   ]
  },
  {
   "cell_type": "markdown",
   "id": "8a4efb4c-395f-4a17-bc3a-de88f3ebe245",
   "metadata": {},
   "source": [
    "## Metrics extra Test set \n",
    "Extra test set, independent from the training/validation/test"
   ]
  },
  {
   "cell_type": "code",
   "execution_count": 2,
   "id": "e9fbaae2-99ef-432d-86f4-9d00474fb86b",
   "metadata": {},
   "outputs": [],
   "source": [
    "import pandas as pd\n",
    "from collections import namedtuple\n",
    "from sklearn.metrics import precision_recall_fscore_support"
   ]
  },
  {
   "cell_type": "code",
   "execution_count": 5,
   "id": "5bae36df-01f9-4de1-ba61-f3e7a415ebdf",
   "metadata": {},
   "outputs": [
    {
     "data": {
      "text/html": [
       "<div>\n",
       "<style scoped>\n",
       "    .dataframe tbody tr th:only-of-type {\n",
       "        vertical-align: middle;\n",
       "    }\n",
       "\n",
       "    .dataframe tbody tr th {\n",
       "        vertical-align: top;\n",
       "    }\n",
       "\n",
       "    .dataframe thead th {\n",
       "        text-align: right;\n",
       "    }\n",
       "</style>\n",
       "<table border=\"1\" class=\"dataframe\">\n",
       "  <thead>\n",
       "    <tr style=\"text-align: right;\">\n",
       "      <th></th>\n",
       "      <th>Unnamed: 0</th>\n",
       "      <th>path_fasta</th>\n",
       "      <th>prob</th>\n",
       "      <th>pred_class</th>\n",
       "      <th>ground_truth</th>\n",
       "    </tr>\n",
       "  </thead>\n",
       "  <tbody>\n",
       "    <tr>\n",
       "      <th>0</th>\n",
       "      <td>0</td>\n",
       "      <td>data-nextclade-comparison/hCoV-19/GK/hCoV-19_U...</td>\n",
       "      <td>0.899028</td>\n",
       "      <td>GK</td>\n",
       "      <td>GK</td>\n",
       "    </tr>\n",
       "    <tr>\n",
       "      <th>1</th>\n",
       "      <td>1</td>\n",
       "      <td>data-nextclade-comparison/hCoV-19/GK/hCoV-19_A...</td>\n",
       "      <td>0.874016</td>\n",
       "      <td>GK</td>\n",
       "      <td>GK</td>\n",
       "    </tr>\n",
       "    <tr>\n",
       "      <th>2</th>\n",
       "      <td>2</td>\n",
       "      <td>data-nextclade-comparison/hCoV-19/GK/hCoV-19_E...</td>\n",
       "      <td>0.774449</td>\n",
       "      <td>GK</td>\n",
       "      <td>GK</td>\n",
       "    </tr>\n",
       "    <tr>\n",
       "      <th>3</th>\n",
       "      <td>3</td>\n",
       "      <td>data-nextclade-comparison/hCoV-19/GK/hCoV-19_F...</td>\n",
       "      <td>0.827125</td>\n",
       "      <td>GK</td>\n",
       "      <td>GK</td>\n",
       "    </tr>\n",
       "    <tr>\n",
       "      <th>4</th>\n",
       "      <td>4</td>\n",
       "      <td>data-nextclade-comparison/hCoV-19/GK/hCoV-19_A...</td>\n",
       "      <td>0.879893</td>\n",
       "      <td>GK</td>\n",
       "      <td>GK</td>\n",
       "    </tr>\n",
       "  </tbody>\n",
       "</table>\n",
       "</div>"
      ],
      "text/plain": [
       "   Unnamed: 0                                         path_fasta      prob  \\\n",
       "0           0  data-nextclade-comparison/hCoV-19/GK/hCoV-19_U...  0.899028   \n",
       "1           1  data-nextclade-comparison/hCoV-19/GK/hCoV-19_A...  0.874016   \n",
       "2           2  data-nextclade-comparison/hCoV-19/GK/hCoV-19_E...  0.774449   \n",
       "3           3  data-nextclade-comparison/hCoV-19/GK/hCoV-19_F...  0.827125   \n",
       "4           4  data-nextclade-comparison/hCoV-19/GK/hCoV-19_A...  0.879893   \n",
       "\n",
       "  pred_class ground_truth  \n",
       "0         GK           GK  \n",
       "1         GK           GK  \n",
       "2         GK           GK  \n",
       "3         GK           GK  \n",
       "4         GK           GK  "
      ]
     },
     "execution_count": 5,
     "metadata": {},
     "output_type": "execute_result"
    }
   ],
   "source": [
    "path_model_preds = \"results_nextclade_comparison.csv\"\n",
    "model_preds = pd.read_csv(path_model_preds)\n",
    "\n",
    "# get ground truth for the sequence\n",
    "model_preds[\"ground_truth\"] = model_preds[\"path_fasta\"].apply(lambda path: path.split(\"/\")[2])\n",
    "model_preds.head()"
   ]
  },
  {
   "cell_type": "code",
   "execution_count": 7,
   "id": "8dc9a037-a66e-4296-b612-b4336a19bb2c",
   "metadata": {},
   "outputs": [
    {
     "data": {
      "text/html": [
       "<div>\n",
       "<style scoped>\n",
       "    .dataframe tbody tr th:only-of-type {\n",
       "        vertical-align: middle;\n",
       "    }\n",
       "\n",
       "    .dataframe tbody tr th {\n",
       "        vertical-align: top;\n",
       "    }\n",
       "\n",
       "    .dataframe thead th {\n",
       "        text-align: right;\n",
       "    }\n",
       "</style>\n",
       "<table border=\"1\" class=\"dataframe\">\n",
       "  <thead>\n",
       "    <tr style=\"text-align: right;\">\n",
       "      <th></th>\n",
       "      <th>clade</th>\n",
       "      <th>precision</th>\n",
       "      <th>recall</th>\n",
       "    </tr>\n",
       "  </thead>\n",
       "  <tbody>\n",
       "    <tr>\n",
       "      <th>0</th>\n",
       "      <td>S</td>\n",
       "      <td>0.999568</td>\n",
       "      <td>0.987841</td>\n",
       "    </tr>\n",
       "    <tr>\n",
       "      <th>1</th>\n",
       "      <td>L</td>\n",
       "      <td>0.997050</td>\n",
       "      <td>0.984190</td>\n",
       "    </tr>\n",
       "    <tr>\n",
       "      <th>2</th>\n",
       "      <td>G</td>\n",
       "      <td>0.853049</td>\n",
       "      <td>0.961325</td>\n",
       "    </tr>\n",
       "    <tr>\n",
       "      <th>3</th>\n",
       "      <td>V</td>\n",
       "      <td>0.993096</td>\n",
       "      <td>0.991851</td>\n",
       "    </tr>\n",
       "    <tr>\n",
       "      <th>4</th>\n",
       "      <td>GR</td>\n",
       "      <td>0.997341</td>\n",
       "      <td>0.922147</td>\n",
       "    </tr>\n",
       "    <tr>\n",
       "      <th>5</th>\n",
       "      <td>GH</td>\n",
       "      <td>0.991510</td>\n",
       "      <td>0.989870</td>\n",
       "    </tr>\n",
       "    <tr>\n",
       "      <th>6</th>\n",
       "      <td>GV</td>\n",
       "      <td>0.997538</td>\n",
       "      <td>0.979255</td>\n",
       "    </tr>\n",
       "    <tr>\n",
       "      <th>7</th>\n",
       "      <td>GK</td>\n",
       "      <td>0.964060</td>\n",
       "      <td>0.958773</td>\n",
       "    </tr>\n",
       "  </tbody>\n",
       "</table>\n",
       "</div>"
      ],
      "text/plain": [
       "  clade  precision    recall\n",
       "0     S   0.999568  0.987841\n",
       "1     L   0.997050  0.984190\n",
       "2     G   0.853049  0.961325\n",
       "3     V   0.993096  0.991851\n",
       "4    GR   0.997341  0.922147\n",
       "5    GH   0.991510  0.989870\n",
       "6    GV   0.997538  0.979255\n",
       "7    GK   0.964060  0.958773"
      ]
     },
     "execution_count": 7,
     "metadata": {},
     "output_type": "execute_result"
    }
   ],
   "source": [
    "CLADES = ['S','L','G','V','GR','GH','GV','GK']\n",
    "y_true = model_preds.ground_truth\n",
    "y_pred = model_preds.pred_class\n",
    "precision, recall, fscore, support = precision_recall_fscore_support(y_true, y_pred, average=None, labels=CLADES)\n",
    "\n",
    "list_metrics = []\n",
    "Metrics = namedtuple(\"Metrics\", [\"clade\",\"precision\", \"recall\"])#, \"fscore\", \"support\"]\n",
    "for j,clade in enumerate(CLADES): \n",
    "    list_metrics.append(\n",
    "        Metrics(clade, precision[j], recall[j])\n",
    "    )\n",
    "\n",
    "df_metrics = pd.DataFrame(list_metrics)\n",
    "df_metrics"
   ]
  },
  {
   "cell_type": "code",
   "execution_count": 9,
   "id": "e86a0b78-e20a-41a0-b228-4d5c43d51832",
   "metadata": {},
   "outputs": [
    {
     "name": "stdout",
     "output_type": "stream",
     "text": [
      "\\begin{tabular}{llrr}\n",
      "\\toprule\n",
      "{} & clade &  precision &    recall \\\\\n",
      "\\midrule\n",
      "0 &     S &   0.999568 &  0.987841 \\\\\n",
      "1 &     L &   0.997050 &  0.984190 \\\\\n",
      "2 &     G &   0.853049 &  0.961325 \\\\\n",
      "3 &     V &   0.993096 &  0.991851 \\\\\n",
      "4 &    GR &   0.997341 &  0.922147 \\\\\n",
      "5 &    GH &   0.991510 &  0.989870 \\\\\n",
      "6 &    GV &   0.997538 &  0.979255 \\\\\n",
      "7 &    GK &   0.964060 &  0.958773 \\\\\n",
      "\\bottomrule\n",
      "\\end{tabular}\n",
      "\n"
     ]
    }
   ],
   "source": [
    "print(df_metrics.to_latex())"
   ]
  },
  {
   "cell_type": "code",
   "execution_count": 11,
   "id": "a061f844-c0ad-45f8-b1fa-3cabac3fadcc",
   "metadata": {},
   "outputs": [
    {
     "data": {
      "text/plain": [
       "9.166666666666666"
      ]
     },
     "execution_count": 11,
     "metadata": {},
     "output_type": "execute_result"
    }
   ],
   "source": [
    "33_000/60/60"
   ]
  },
  {
   "cell_type": "code",
   "execution_count": null,
   "id": "d6706a46-090d-47cd-ac58-d16a42c7e040",
   "metadata": {},
   "outputs": [],
   "source": []
  }
 ],
 "metadata": {
  "kernelspec": {
   "display_name": "Python 3 (ipykernel)",
   "language": "python",
   "name": "python3"
  },
  "language_info": {
   "codemirror_mode": {
    "name": "ipython",
    "version": 3
   },
   "file_extension": ".py",
   "mimetype": "text/x-python",
   "name": "python",
   "nbconvert_exporter": "python",
   "pygments_lexer": "ipython3",
   "version": "3.9.7"
  }
 },
 "nbformat": 4,
 "nbformat_minor": 5
}
